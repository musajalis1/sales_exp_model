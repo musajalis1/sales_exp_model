{
  "nbformat": 4,
  "nbformat_minor": 0,
  "metadata": {
    "colab": {
      "provenance": []
    },
    "kernelspec": {
      "name": "python3",
      "display_name": "Python 3"
    },
    "language_info": {
      "name": "python"
    }
  },
  "cells": [
    {
      "cell_type": "markdown",
      "source": [
        "# Modeling a sales dataset with an exponential function\n",
        "\n",
        "In this notebook, I will be walking you through modeling data with an exponential function. The dataset provides us with sales orders over a period of a few years. The dataset contains information regarding the date of an order, the quantity of orders, the unit price, and other identifying information for each order.\n",
        "\n",
        "For the purpose of this notebook, we will be taking a closer look at the quantity ordered and the period of time in which the orders take place. We will be using this data to build a model for total sales, that can be used to predict future sales.\n",
        "\n",
        "We will be modelling the data using the function: $y = a_{fit} * e^{b_{fit} \\, * \\, x} $\n",
        "\n",
        "The dataset used can be found at: https://github.com/MicrosoftLearning/dp-data/tree/main"
      ],
      "metadata": {
        "id": "NYXzL70HM7PF"
      }
    },
    {
      "cell_type": "markdown",
      "source": [
        "# The Dataset"
      ],
      "metadata": {
        "id": "Eq796L6PWK2D"
      }
    },
    {
      "cell_type": "code",
      "execution_count": null,
      "metadata": {
        "id": "1xWyU4MjMS0J"
      },
      "outputs": [],
      "source": [
        "import pandas as pd\n",
        "import matplotlib.pyplot as plt\n",
        "import matplotlib.dates as mdates\n",
        "import scipy\n",
        "import numpy as np"
      ]
    },
    {
      "cell_type": "markdown",
      "source": [
        "We first pull the csv file into the notebook from GitHub. Next, we can take a look at the dataframe we have created from the data."
      ],
      "metadata": {
        "id": "PTifQSTDOmBG"
      }
    },
    {
      "cell_type": "code",
      "source": [
        "data_src = \"https://raw.githubusercontent.com/MicrosoftLearning/dp-data/refs/heads/main/sales.csv\"\n",
        "sales = pd.read_csv(data_src)"
      ],
      "metadata": {
        "id": "54dPNv7tUZ5G"
      },
      "execution_count": null,
      "outputs": []
    },
    {
      "cell_type": "code",
      "source": [
        "sales"
      ],
      "metadata": {
        "id": "G2U_LyzgMjRh"
      },
      "execution_count": null,
      "outputs": []
    },
    {
      "cell_type": "markdown",
      "source": [
        "We will now create a pivot table to better understand the data. The pivot table is indexed on the date and the values of the table are the aggregate sum of the sale quantity. This will tell us how many total sales were made each day."
      ],
      "metadata": {
        "id": "GNyR0edsOt2z"
      }
    },
    {
      "cell_type": "code",
      "source": [
        "total_sales = sales.pivot_table(index='OrderDate', values='Quantity', aggfunc='sum')\n",
        "total_sales = total_sales.reset_index()\n",
        "total_sales"
      ],
      "metadata": {
        "id": "1dwt23XDMjym"
      },
      "execution_count": null,
      "outputs": []
    },
    {
      "cell_type": "markdown",
      "source": [
        "We will visualize this data on a scatter plot, to better understand the relationship between the variables and to identify long-term trends."
      ],
      "metadata": {
        "id": "i9GD6rmjVMlK"
      }
    },
    {
      "cell_type": "code",
      "source": [
        "plt.grid(color='lightgray', linestyle='-', linewidth=0.5)\n",
        "plt.scatter(total_sales['OrderDate'], total_sales['Quantity'], s= 3)\n",
        "plt.gca().xaxis.set_major_locator(mdates.MonthLocator(interval=2))\n",
        "plt.gcf().autofmt_xdate()\n",
        "\n",
        "plt.xlabel('Date')\n",
        "plt.ylabel('Quantity')\n",
        "plt.title('Total Sales')"
      ],
      "metadata": {
        "id": "TrzPTEntMvuy"
      },
      "execution_count": null,
      "outputs": []
    },
    {
      "cell_type": "markdown",
      "source": [
        "From the visualization, we can see that the sales orders have increased over the time period. Furthermore, we can observe an exponential trend that the data follows."
      ],
      "metadata": {
        "id": "QJD69wjFVT09"
      }
    },
    {
      "cell_type": "markdown",
      "source": [
        "#The Model"
      ],
      "metadata": {
        "id": "Yay6TT8HWDIJ"
      }
    },
    {
      "cell_type": "markdown",
      "source": [
        "Based upon our previous discovery, we will be modeling the data with an exponential function. First, we define the function, which will include the model parameters (a and b) that can be fit to the data."
      ],
      "metadata": {
        "id": "-uAaJQXHWOum"
      }
    },
    {
      "cell_type": "code",
      "source": [
        "def exp_func(x, a, b):\n",
        "  return a * np.exp(b * x)"
      ],
      "metadata": {
        "id": "blQ44lH4M12C"
      },
      "execution_count": null,
      "outputs": []
    },
    {
      "cell_type": "markdown",
      "source": [
        "Next we will reformat our date values into integers. The reformatted date column will now represent the days since the first datapoint. This will allow the model to process the date as an independent variable."
      ],
      "metadata": {
        "id": "jEZIf7tZW283"
      }
    },
    {
      "cell_type": "code",
      "source": [
        "total_sales_dates = pd.to_datetime(total_sales['OrderDate'].tolist())\n",
        "total_sales_ref_date = total_sales_dates.min()\n",
        "total_sales_day_count = (total_sales_dates - total_sales_ref_date).days"
      ],
      "metadata": {
        "id": "1dcBuupmMzJv"
      },
      "execution_count": null,
      "outputs": []
    },
    {
      "cell_type": "markdown",
      "source": [
        "Now, we will fit our model to the data. We are providing the curve_fit() function with the following parameters: the function we are using for the model (exponential function), the x data (days past), the y data (number of sales), and a predicted value for the parameters of the exponential function (a and b). These parameters were reached through a few rounds of trial and error.\n",
        "\n",
        "Finally, we will extract from the function our fitted model parameters, and the covariance matrix for the fitted parameters. For the purpose of this notebook, we will not be using the covariance matrix."
      ],
      "metadata": {
        "id": "WK_vpMK9XoYu"
      }
    },
    {
      "cell_type": "code",
      "source": [
        "opt, cov = scipy.optimize.curve_fit(exp_func, total_sales_day_count, total_sales['Quantity'], p0= [0.005, 0.005])"
      ],
      "metadata": {
        "id": "vY_IltppM3j1"
      },
      "execution_count": null,
      "outputs": []
    },
    {
      "cell_type": "markdown",
      "source": [
        "We then extract our a and b parameters that have been fitted to the data."
      ],
      "metadata": {
        "id": "x0gOJespZmXe"
      }
    },
    {
      "cell_type": "code",
      "source": [
        "a_fit, b_fit = opt\n",
        "print(f\"a = {a_fit}, b = {b_fit}\")"
      ],
      "metadata": {
        "id": "Xjo6H5XhWfDS"
      },
      "execution_count": null,
      "outputs": []
    },
    {
      "cell_type": "markdown",
      "source": [
        "And, finally, we overlay the exponential model over the data. This model can be used to make predictions for future sale quantities.\n",
        "\n",
        "The data can be modeled with the function: $y = a_{fit} * e^{b_{fit} \\, * \\, x} $"
      ],
      "metadata": {
        "id": "z7YkhlbPZ0tM"
      }
    },
    {
      "cell_type": "code",
      "source": [
        "plt.grid(color='lightgray', linestyle='-', linewidth=0.5)\n",
        "plt.scatter(total_sales['OrderDate'], total_sales['Quantity'], s= 3)\n",
        "plt.gca().xaxis.set_major_locator(mdates.MonthLocator(interval=2))\n",
        "plt.gcf().autofmt_xdate()\n",
        "\n",
        "x_range_q = np.linspace(min(total_sales_day_count),\n",
        "                        max(total_sales_day_count), 100)\n",
        "y_fit = exp_func(x_range_q, *opt)\n",
        "plt.plot(x_range_q, y_fit, color= 'red')\n",
        "\n",
        "plt.xlabel('Date')\n",
        "plt.ylabel('Quantity')\n",
        "plt.title('Total Sales Modeled Exponentially')"
      ],
      "metadata": {
        "id": "od1zg9ZAM5yl"
      },
      "execution_count": null,
      "outputs": []
    }
  ]
}